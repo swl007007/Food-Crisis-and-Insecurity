{
 "cells": [
  {
   "cell_type": "code",
   "execution_count": 3,
   "metadata": {},
   "outputs": [
    {
     "name": "stderr",
     "output_type": "stream",
     "text": [
      "c:\\Users\\WeilunShi\\OneDrive - CGIAR\\Desktop\\Food Crisis and Insecurity\\.venv\\Lib\\site-packages\\IPython\\core\\interactiveshell.py:3445: FutureWarning: The `op` parameter is deprecated and will be removed in a future release. Please use the `predicate` parameter instead.\n",
      "  if await self.run_code(code, result, async_=asy):\n"
     ]
    }
   ],
   "source": [
    "import rasterio\n",
    "import geopandas as gpd\n",
    "from rasterio.mask import mask\n",
    "import os\n",
    "import tqdm\n",
    "import rasterio.features\n",
    "from shapely.geometry import shape\n",
    "import pandas as pd\n",
    "\n",
    "\n",
    "\n",
    "shp_file = '../1.Initilization/intermediate/unique_polygons_shapefile.shp'\n",
    "gdf_mask = gpd.read_file(shp_file)\n",
    "gdf_mask = gdf_mask.to_crs(\"EPSG:4326\")\n",
    "#loop through the raster files\n",
    "raster_file = r'C:\\Users\\WeilunShi\\OneDrive - CGIAR\\Desktop\\Food Crisis and Insecurity\\0.external_data\\cropland_rangeland_mask\\asap_mask_rangeland_v02.tif'\n",
    "\n",
    "# Read the raster file (.tif)\n",
    "src = rasterio.open(raster_file)\n",
    "# Get the geometry of the shapefile as GeoJSON\n",
    "mask_geom = gdf_mask.geometry\n",
    "\n",
    "\n",
    "def raster_to_polygons(raster_array, transform, nodata=None):\n",
    "    polygons = []\n",
    "    for vec, val in rasterio.features.shapes(raster_array, mask=raster_array != nodata, transform=transform):\n",
    "        if val != nodata:\n",
    "            polygons.append({\"geometry\": shape(vec), \"value\": val})\n",
    "    return polygons\n",
    "\n",
    "# Mask the raster using the geometry\n",
    "out_image, out_transform = mask(src, mask_geom, crop=True, filled=False)\n",
    "out_meta = src.meta.copy()\n",
    "out_meta.update({\"driver\": \"GTiff\",\n",
    "                \"height\": out_image.shape[1],\n",
    "                \"width\": out_image.shape[2],\n",
    "                \"transform\": out_transform})\n",
    "polygons = raster_to_polygons(out_image[0], out_transform)\n",
    "# Create a GeoDataFrame from the polygons\n",
    "gdf = gpd.GeoDataFrame(polygons, crs=out_meta[\"crs\"])\n",
    "\n",
    "# Set a new index if desired\n",
    "result = gdf.reset_index().rename(columns={0: 'value'})\n",
    "\n",
    "\n",
    "# Perform a spatial join between the points and polygons\n",
    "spatial_join_gdf = gpd.sjoin(result, gdf_mask, how='inner', op='within')\n",
    "\n",
    "# Group by the 'polygon_id' column and calculate the mean of the 'value' column\n",
    "aggregated_gdf = spatial_join_gdf.groupby('FID').agg({'value': 'mean'}).reset_index()\n",
    "\n",
    "# join aggregated_gdf with gdf_mask on FID\n",
    "aggregated_gdf = gdf_mask.merge(aggregated_gdf, on='FID', how='left')\n",
    "\n",
    "\n",
    "rename_dict = {'FID': 'polygon_id', 'value': 'rangeland_mask'}\n",
    "aggregated_gdf = aggregated_gdf.rename(columns=rename_dict)\n",
    "\n",
    "# read geojson\n",
    "geojson_file = '../2.merge_data/intermediate/output7.geojson'\n",
    "\n",
    "\n",
    "# read geojson\n",
    "gdf = gpd.read_file(geojson_file)\n",
    "\n",
    "# drop\n",
    "gdf = gdf.drop(columns=['index_right','polygon_id'])\n",
    "\n",
    "# spatial join\n",
    "gdf_2 = gpd.sjoin(gdf, aggregated_gdf, how='left', op='within')\n",
    "# drop\n",
    "gdf_2 = gdf_2.drop(columns=['index_right','polygon_id'])\n"
   ]
  },
  {
   "cell_type": "code",
   "execution_count": null,
   "metadata": {},
   "outputs": [],
   "source": [
    "# output\n",
    "gdf_2.to_file('../2.merge_data/intermediate/output8.geojson', driver='GeoJSON')"
   ]
  }
 ],
 "metadata": {
  "kernelspec": {
   "display_name": "Food_Crisis_and_Insecurity-8fC6jjVv",
   "language": "python",
   "name": "python3"
  },
  "language_info": {
   "codemirror_mode": {
    "name": "ipython",
    "version": 3
   },
   "file_extension": ".py",
   "mimetype": "text/x-python",
   "name": "python",
   "nbconvert_exporter": "python",
   "pygments_lexer": "ipython3",
   "version": "3.11.3"
  },
  "orig_nbformat": 4
 },
 "nbformat": 4,
 "nbformat_minor": 2
}
