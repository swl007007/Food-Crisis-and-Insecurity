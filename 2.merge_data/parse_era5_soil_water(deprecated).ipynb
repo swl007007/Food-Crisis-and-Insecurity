{
 "cells": [
  {
   "cell_type": "code",
   "execution_count": 1,
   "metadata": {},
   "outputs": [
    {
     "name": "stderr",
     "output_type": "stream",
     "text": [
      "c:\\Users\\WeilunShi\\OneDrive - CGIAR\\Desktop\\Food Crisis and Insecurity\\.venv\\Lib\\site-packages\\IPython\\core\\interactiveshell.py:3445: FutureWarning: The `op` parameter is deprecated and will be removed in a future release. Please use the `predicate` parameter instead.\n",
      "  if await self.run_code(code, result, async_=asy):\n"
     ]
    }
   ],
   "source": [
    "# use docker to parse grib file\n",
    "#docker pull osgeo/gdal\n",
    "#docker run --rm -v \"C:/Users/WeilunShi/OneDrive - CGIAR/Desktop/Food Crisis and Insecurity/0.external_data/ERA5_data:/data\" osgeo/gdal:latest gdal_translate -of GTiff /data/ERA_2.grib /data/output_2.tif\n",
    "\n",
    "import numpy as np\n",
    "import rasterio\n",
    "import geopandas as gpd\n",
    "from rasterio.features import shapes\n",
    "from shapely.geometry import shape\n",
    "\n",
    "# Read the .tif file with Rasterio\n",
    "with rasterio.open(r'C:\\Users\\WeilunShi\\OneDrive - CGIAR\\Desktop\\Food Crisis and Insecurity\\0.external_data\\ERA5_soil_water\\output_2.tif') as src:\n",
    "    image = src.read(1)  # Read the first band\n",
    "    transform = src.transform\n",
    "\n",
    "# Convert the image data type to int16\n",
    "image = image.astype(np.int16)\n",
    "# Extract shapes from the raster data\n",
    "shapes_and_values = list(shapes(image, transform=transform))\n",
    "geometries = [shape(s[0]) for s in shapes_and_values]\n",
    "values = [s[1] for s in shapes_and_values]\n",
    "\n",
    "# Create a GeoDataFrame\n",
    "gdf = gpd.GeoDataFrame({'geometry': geometries, 'value': values})\n",
    "\n",
    "# Set the Coordinate Reference System (CRS) to match the input raster\n",
    "gdf.crs = src.crs\n",
    "\n",
    "\n",
    "# set CRS to 4236\n",
    "gdf = gdf.to_crs(epsg=4326)\n",
    "\n",
    "\n",
    "\n",
    "# read geojson\n",
    "areas = gpd.read_file(r'C:\\Users\\WeilunShi\\OneDrive - CGIAR\\Desktop\\Food Crisis and Insecurity\\\\2.merge_data\\intermediate\\output10.geojson')\n",
    "\n",
    "\n",
    "# spatial join\n",
    "result = gpd.sjoin(areas, gdf, how='left', op='intersects')\n",
    "\n",
    "# rename\n",
    "result = result.rename(columns={'value': 'soil_water'})\n",
    "\n",
    "#parse missing value\n",
    "result.loc[result['soil_water']==9999] = np.nan\n",
    "\n",
    "# summarize\n",
    "results = result.groupby(['date','title'])['soil_water'].mean().reset_index()\n",
    "\n",
    "# merge\n",
    "results = results.merge(result, on=['title','date'], how='right')\n",
    "\n",
    "\n",
    "\n",
    "results.drop(columns=['soil_water_y','index_right'], inplace=True)\n",
    "#rename\n",
    "results.rename(columns={'soil_water_x':'soil_water'}, inplace=True)\n",
    "\n",
    "\n",
    "#drop duplicates\n",
    "results.drop_duplicates(inplace=True)\n",
    "\n",
    "# convert dataframe to geodataframe\n",
    "results = gpd.GeoDataFrame(results, geometry='geometry')\n",
    "\n",
    "# save as geojson\n",
    "results.to_file(r'C:\\Users\\WeilunShi\\OneDrive - CGIAR\\Desktop\\Food Crisis and Insecurity\\\\2.merge_data\\intermediate\\output11.geojson', driver='GeoJSON')"
   ]
  }
 ],
 "metadata": {
  "kernelspec": {
   "display_name": "Food_Crisis_and_Insecurity-8fC6jjVv",
   "language": "python",
   "name": "python3"
  },
  "language_info": {
   "codemirror_mode": {
    "name": "ipython",
    "version": 3
   },
   "file_extension": ".py",
   "mimetype": "text/x-python",
   "name": "python",
   "nbconvert_exporter": "python",
   "pygments_lexer": "ipython3",
   "version": "3.11.3"
  },
  "orig_nbformat": 4
 },
 "nbformat": 4,
 "nbformat_minor": 2
}
