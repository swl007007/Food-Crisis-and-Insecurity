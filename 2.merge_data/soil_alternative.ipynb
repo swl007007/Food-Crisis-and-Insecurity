{
 "cells": [
  {
   "cell_type": "code",
   "execution_count": 1,
   "metadata": {},
   "outputs": [
    {
     "name": "stderr",
     "output_type": "stream",
     "text": [
      "C:\\Users\\WeilunShi\\AppData\\Local\\Temp\\ipykernel_20504\\2439317317.py:16: UserWarning: Geometry is in a geographic CRS. Results from 'centroid' are likely incorrect. Use 'GeoSeries.to_crs()' to re-project geometries to a projected CRS before this operation.\n",
      "\n",
      "  areas_gdf['centroid'] = areas_gdf['geometry'].centroid\n",
      "100%|██████████| 298/298 [01:39<00:00,  2.99it/s]\n"
     ]
    }
   ],
   "source": [
    "import geopandas as gpd\n",
    "import tqdm\n",
    "import requests\n",
    "import json\n",
    "\n",
    "areas = gpd.read_file(r'C:\\Users\\WeilunShi\\OneDrive - CGIAR\\Desktop\\Food Crisis and Insecurity\\\\2.merge_data\\output4.geojson')\n",
    "\n",
    "# extract geometry and title\n",
    "areas_gdf = areas[['geometry', 'title']]\n",
    "\n",
    "# distinct \n",
    "areas_gdf = areas_gdf.drop_duplicates()\n",
    "# change crs\n",
    "areas_gdf = areas_gdf.to_crs(epsg=4326)\n",
    "# find centroid\n",
    "areas_gdf['centroid'] = areas_gdf['geometry'].centroid\n",
    "\n",
    "# extract lat and lon\n",
    "areas_gdf['lat'] = areas_gdf['centroid'].apply(lambda x: x.y)\n",
    "areas_gdf['lon'] = areas_gdf['centroid'].apply(lambda x: x.x)\n",
    "\n",
    "# round to 2 decimal places\n",
    "areas_gdf['lat'] = areas_gdf['lat'].round(2)\n",
    "areas_gdf['lon'] = areas_gdf['lon'].round(2)\n",
    "\n",
    "# reset index\n",
    "areas_gdf = areas_gdf.reset_index(drop=True)\n",
    "\n",
    "for i in tqdm.tqdm(range(len(areas_gdf))):\n",
    "   url = 'https://rest.isric.org/soilgrids/v2.0/properties/query?lon={}&lat={}&property=bdod&depth=0-5cm&value=mean'.format(areas_gdf['lon'][i], areas_gdf['lat'][i])\n",
    "   response = requests.get(url)\n",
    "   data = json.loads(response.text)\n",
    "   if 'properties' in data:\n",
    "   # deal with missing data\n",
    "         if data['properties']['layers'] == []:\n",
    "            areas_gdf.loc[i, 'soil'] = None\n",
    "            continue\n",
    "         areas_gdf.loc[i, 'soil'] = data['properties']['layers'][0]['depths'][0]['values']['mean']\n",
    "\n",
    "# change crs\n",
    "areas = areas.to_crs(epsg=4326)\n",
    "\n",
    "# merge on geometry\n",
    "areas_gdf_new = areas_gdf.merge(areas, on='geometry', how='right')\n",
    "# drop title_x centroid lat lon, rename soil_x to soil_quality,rename title_y to title, rename soil_y to soil, rename value to chirps_rainfall\n",
    "areas_gdf_new = areas_gdf_new.drop(['title_x', 'centroid', 'lat', 'lon'], axis=1)\n",
    "areas_gdf_new = areas_gdf_new.rename(columns={'soil_x': 'soil_quality', 'title_y': 'title', 'soil_y': 'soil', 'value': 'chirps_rainfall'})\n",
    "\n",
    "\n",
    "# write to geojson\n",
    "areas_gdf_new.to_file(r'C:\\Users\\WeilunShi\\OneDrive - CGIAR\\Desktop\\Food Crisis and Insecurity\\\\2.merge_data\\output5.geojson', driver='GeoJSON')"
   ]
  }
 ],
 "metadata": {
  "kernelspec": {
   "display_name": ".venv",
   "language": "python",
   "name": "python3"
  },
  "language_info": {
   "codemirror_mode": {
    "name": "ipython",
    "version": 3
   },
   "file_extension": ".py",
   "mimetype": "text/x-python",
   "name": "python",
   "nbconvert_exporter": "python",
   "pygments_lexer": "ipython3",
   "version": "3.11.3"
  },
  "orig_nbformat": 4
 },
 "nbformat": 4,
 "nbformat_minor": 2
}
