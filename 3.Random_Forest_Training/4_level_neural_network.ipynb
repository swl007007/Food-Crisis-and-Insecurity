{
 "cells": [
  {
   "cell_type": "code",
   "execution_count": 1,
   "metadata": {},
   "outputs": [],
   "source": [
    "import numpy as np\n",
    "import pandas as pd\n",
    "import torch\n",
    "import torch.nn as nn\n",
    "import torch.optim as optim\n",
    "from sklearn.model_selection import train_test_split\n",
    "from sklearn.metrics import mean_squared_error, r2_score\n",
    "from skorch import NeuralNetRegressor\n",
    "import geopandas"
   ]
  },
  {
   "cell_type": "code",
   "execution_count": 2,
   "metadata": {},
   "outputs": [],
   "source": [
    "# read geopandas dataframe\n",
    "df = geopandas.read_file(r'C:\\Users\\WeilunShi\\OneDrive - CGIAR\\Desktop\\Food Crisis and Insecurity\\\\2.merge_data\\intermediate\\output14.geojson')\n"
   ]
  },
  {
   "cell_type": "code",
   "execution_count": 3,
   "metadata": {},
   "outputs": [],
   "source": [
    "#drop geometry column\n",
    "df = df.drop(columns=['geometry'])"
   ]
  },
  {
   "cell_type": "code",
   "execution_count": 4,
   "metadata": {},
   "outputs": [],
   "source": [
    "\n",
    "\n",
    "# drop columns with more than 50% missing values\n",
    "df = df.dropna(thresh=0.5*len(df), axis=1)\n",
    "\n",
    "# drop columns with only one unique value\n",
    "df = df.loc[:,df.apply(pd.Series.nunique) != 1]\n",
    "\n",
    "# drop columns with all missing values\n",
    "df = df.dropna(axis=1, how='all')\n",
    "\n",
    "# drop columns with all zero values\n",
    "df = df.loc[:, (df != 0).any(axis=0)]\n",
    "\n",
    "\n",
    "# drop all missing values\n",
    "df = df.dropna()"
   ]
  },
  {
   "cell_type": "code",
   "execution_count": 5,
   "metadata": {},
   "outputs": [],
   "source": [
    "X = df[['radiation', 'soil_temperature', 'temperature',\n",
    "       'soil_quality', 'battles', 'explosions', 'violence',\n",
    "       'fatalities_battles', 'fatalities_explosions', 'fatalities_violence','estimated_population','elevation',\n",
    "       'soil', 'price', 'GOSIF_GPP', 'chirps_rainfall', 'GOSIF_GPP_SD']].values.astype(np.float32)\n",
    "y = df['phase3_worse_percentage_manual'].values.astype(np.float32)\n"
   ]
  },
  {
   "cell_type": "code",
   "execution_count": 6,
   "metadata": {},
   "outputs": [],
   "source": [
    "X_train, X_test, y_train, y_test = train_test_split(X, y, test_size=0.2, random_state=42)"
   ]
  },
  {
   "cell_type": "code",
   "execution_count": 7,
   "metadata": {},
   "outputs": [],
   "source": [
    "from skorch.callbacks import Callback\n",
    "import torch.nn.functional as F\n",
    "from sklearn.preprocessing import StandardScaler\n",
    "from sklearn.impute import SimpleImputer\n",
    "imputer = SimpleImputer(missing_values=np.nan, strategy='mean')\n",
    "imputer.fit(X)\n",
    "X = imputer.transform(X)\n",
    "\n",
    "\n",
    "class GradClipCallback(Callback):\n",
    "    def __init__(self, max_norm):\n",
    "        self.max_norm = max_norm\n",
    "\n",
    "    def on_backward_end(self, net, named_parameters, Xi, yi, training, **kwargs):\n",
    "        torch.nn.utils.clip_grad_norm_(net.module.parameters(), self.max_norm)\n",
    "\n",
    "class SimpleNN(nn.Module):\n",
    "    def __init__(self, input_dim, output_dim):\n",
    "        super(SimpleNN, self).__init__()\n",
    "        self.fc1 = nn.Linear(input_dim, 64)\n",
    "        self.dropout1 = nn.Dropout(0.2)\n",
    "        self.fc2 = nn.Linear(64, 128)\n",
    "        self.dropout2 = nn.Dropout(0.2)\n",
    "        self.fc3 = nn.Linear(128, 64)\n",
    "        self.dropout3 = nn.Dropout(0.2)\n",
    "        self.fc4 = nn.Linear(64, output_dim)\n",
    "\n",
    "    def forward(self, x):\n",
    "        x = F.relu(self.fc1(x))\n",
    "        x = self.dropout1(x)\n",
    "        x = F.relu(self.fc2(x))\n",
    "        x = self.dropout2(x)\n",
    "        x = F.relu(self.fc3(x))\n",
    "        x = self.dropout3(x)\n",
    "        x = self.fc4(x)\n",
    "        return x\n"
   ]
  },
  {
   "cell_type": "code",
   "execution_count": 8,
   "metadata": {},
   "outputs": [],
   "source": [
    "\n",
    "input_dim = X.shape[1]\n",
    "output_dim = 1\n",
    "\n",
    "# Scale the input features\n",
    "scaler = StandardScaler()\n",
    "X_train_scaled = scaler.fit_transform(X_train)\n",
    "X_test_scaled = scaler.transform(X_test)\n",
    "\n",
    "model = SimpleNN(input_dim, output_dim)\n",
    "\n",
    "net = NeuralNetRegressor(\n",
    "    model,\n",
    "    criterion=nn.MSELoss,\n",
    "    optimizer=optim.Adam,\n",
    "    lr=0.005,\n",
    "    max_epochs=100,\n",
    "    batch_size=32,\n",
    "    train_split=None,\n",
    "    verbose=0,\n",
    "    callbacks=[\n",
    "        ('grad_clip', GradClipCallback(max_norm=1.0)),\n",
    "    ],\n",
    ")\n",
    "\n",
    "net.fit(X_train_scaled, y_train.reshape(-1, 1))\n",
    "y_pred = net.predict(X_test_scaled)"
   ]
  },
  {
   "cell_type": "code",
   "execution_count": 9,
   "metadata": {},
   "outputs": [
    {
     "name": "stdout",
     "output_type": "stream",
     "text": [
      "Mean Squared Error: 0.030065697\n",
      "Root Mean Squared Error: 0.17339462\n",
      "Mean Absolute Error: 0.11100757\n",
      "R-squared: 0.8325700050699856\n"
     ]
    }
   ],
   "source": [
    "from sklearn.metrics import mean_squared_error, mean_absolute_error, r2_score\n",
    "\n",
    "# Calculate metrics\n",
    "mse = mean_squared_error(y_test, y_pred)\n",
    "rmse = np.sqrt(mse)\n",
    "mae = mean_absolute_error(y_test, y_pred)\n",
    "r2 = r2_score(y_test, y_pred)\n",
    "\n",
    "# Print metrics\n",
    "print(\"Mean Squared Error:\", mse)\n",
    "print(\"Root Mean Squared Error:\", rmse)\n",
    "print(\"Mean Absolute Error:\", mae)\n",
    "print(\"R-squared:\", r2)\n"
   ]
  },
  {
   "cell_type": "code",
   "execution_count": 12,
   "metadata": {},
   "outputs": [
    {
     "name": "stdout",
     "output_type": "stream",
     "text": [
      "radiation: 0.18408618751806055\n",
      "soil_temperature: 0.16908434428689073\n",
      "temperature: 0.2673031102186404\n",
      "soil_quality: 0.18819787264836293\n",
      "battles: 0.12645501026868164\n",
      "explosions: 0.02038636719935284\n",
      "violence: 0.06168445083977799\n",
      "fatalities_battles: 0.019049021547110044\n",
      "fatalities_explosions: 0.010488315492616872\n",
      "fatalities_violence: 0.09230784863677434\n",
      "estimated_population: 0.202890828080946\n",
      "elevation: 0.20202030018790734\n",
      "soil: 0.2232137810348805\n",
      "price: 0.5133846882525124\n",
      "GOSIF_GPP: 0.31987914493422764\n",
      "chirps_rainfall: 0.2980079852522823\n",
      "GOSIF_GPP_SD: 0.09249644479490442\n"
     ]
    }
   ],
   "source": [
    "from sklearn.inspection import permutation_importance\n",
    "\n",
    "# Calculate permutation importance\n",
    "result = permutation_importance(net, X_test_scaled, y_test, n_repeats=10, random_state=42)\n",
    "feature_names = ['radiation', 'soil_temperature', 'temperature',\n",
    "       'soil_quality', 'battles', 'explosions', 'violence',\n",
    "       'fatalities_battles', 'fatalities_explosions', 'fatalities_violence','estimated_population','elevation',\n",
    "       'soil', 'price', 'GOSIF_GPP', 'chirps_rainfall', 'GOSIF_GPP_SD']\n",
    "# Print the feature importances\n",
    "for feature, importance in zip(feature_names, result.importances_mean):\n",
    "    print(f\"{feature}: {importance}\")"
   ]
  },
  {
   "cell_type": "code",
   "execution_count": 17,
   "metadata": {},
   "outputs": [
    {
     "data": {
      "text/plain": [
       "['scaler.pkl']"
      ]
     },
     "execution_count": 17,
     "metadata": {},
     "output_type": "execute_result"
    }
   ],
   "source": [
    "import joblib\n",
    "\n",
    "# Save the model and scaler to disk\n",
    "joblib.dump(net, \"regressor.pkl\")\n",
    "joblib.dump(scaler, \"scaler.pkl\")\n"
   ]
  }
 ],
 "metadata": {
  "kernelspec": {
   "display_name": ".venv",
   "language": "python",
   "name": "python3"
  },
  "language_info": {
   "codemirror_mode": {
    "name": "ipython",
    "version": 3
   },
   "file_extension": ".py",
   "mimetype": "text/x-python",
   "name": "python",
   "nbconvert_exporter": "python",
   "pygments_lexer": "ipython3",
   "version": "3.11.3"
  },
  "orig_nbformat": 4
 },
 "nbformat": 4,
 "nbformat_minor": 2
}
