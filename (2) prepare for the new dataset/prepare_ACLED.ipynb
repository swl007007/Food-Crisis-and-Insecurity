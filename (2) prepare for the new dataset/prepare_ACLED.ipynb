{
 "cells": [
  {
   "cell_type": "code",
   "execution_count": 2,
   "metadata": {},
   "outputs": [],
   "source": [
    "import pandas as pd\n",
    "import numpy as np\n",
    "import geopandas as gpd\n",
    "\n",
    "\n",
    "# load csv\n",
    "df = pd.read_csv(r'C:\\Users\\WeilunShi\\OneDrive - CGIAR\\Desktop\\Food Crisis and Insecurity\\ACLED_GOSIF_GPP.csv')\n",
    "\n",
    "area_gdf = gpd.read_file(r'C:\\Users\\WeilunShi\\OneDrive - CGIAR\\Desktop\\Food Crisis and Insecurity\\(2) prepare for the new dataset\\intermediate\\IPC_new.geojson')\n",
    "\n",
    "area_gdf = area_gdf[area_gdf.geometry.type == 'Polygon']\n",
    "# convert to dataframe \n",
    "area_df = pd.DataFrame(area_gdf)\n",
    "#convert geometry to string\n",
    "area_df['geometry'] = area_df['geometry'].astype(str)\n",
    "# rename year_month_left to year_month\n",
    "df.rename(columns={'year_month_left':'year_month'}, inplace=True)\n",
    "# group by year_month and geometry, and calculate the mean of each group\n",
    "df = df.groupby(['year_month', 'geometry']).mean().reset_index()"
   ]
  },
  {
   "cell_type": "code",
   "execution_count": 31,
   "metadata": {},
   "outputs": [],
   "source": [
    "# save as csv\n",
    "df.to_csv(r'C:\\Users\\WeilunShi\\OneDrive - CGIAR\\Desktop\\Food Crisis and Insecurity\\ACLED_GOSIF_GPP_mean.csv', index=False)\n",
    "\n",
    "# save area_df as csv\n",
    "area_df.to_csv(r'C:\\Users\\WeilunShi\\OneDrive - CGIAR\\Desktop\\Food Crisis and Insecurity\\IPC_new.csv', index=False)\n",
    "\n",
    "#filter out the year_month and geometry\n",
    "df2 = df[['year_month', 'geometry']]\n",
    "\n",
    "# save df2 as csv\n",
    "df2.to_csv(r'C:\\Users\\WeilunShi\\OneDrive - CGIAR\\Desktop\\Food Crisis and Insecurity\\geometry.csv', index=False)"
   ]
  }
 ],
 "metadata": {
  "kernelspec": {
   "display_name": ".venv",
   "language": "python",
   "name": "python3"
  },
  "language_info": {
   "codemirror_mode": {
    "name": "ipython",
    "version": 3
   },
   "file_extension": ".py",
   "mimetype": "text/x-python",
   "name": "python",
   "nbconvert_exporter": "python",
   "pygments_lexer": "ipython3",
   "version": "3.11.3"
  },
  "orig_nbformat": 4
 },
 "nbformat": 4,
 "nbformat_minor": 2
}
